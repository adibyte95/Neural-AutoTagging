{
 "cells": [
  {
   "cell_type": "markdown",
   "metadata": {},
   "source": [
    "# Neural AutoTagging\n",
    "\n",
    "author :Aditya Singh"
   ]
  },
  {
   "cell_type": "code",
   "execution_count": 1,
   "metadata": {},
   "outputs": [
    {
     "name": "stderr",
     "output_type": "stream",
     "text": [
      "Using TensorFlow backend.\n"
     ]
    }
   ],
   "source": [
    "from keras.models import Sequential\n",
    "from keras.layers import Conv2D, ZeroPadding2D, Activation, Input, concatenate\n",
    "from keras.models import Model\n",
    "from keras.layers.normalization import BatchNormalization\n",
    "from keras.layers.pooling import MaxPooling2D, AveragePooling2D\n",
    "from keras.layers.merge import Concatenate\n",
    "from keras.layers.core import Lambda, Flatten, Dense\n",
    "from keras.initializers import glorot_uniform\n",
    "from keras.engine.topology import Layer\n",
    "from keras import backend as K\n",
    "K.set_image_data_format('channels_first')\n",
    "import cv2\n",
    "import os\n",
    "import numpy as np\n",
    "from numpy import genfromtxt\n",
    "import pandas as pd\n",
    "import tensorflow as tf\n",
    "from utility import *\n",
    "from inception_blocks_v2 import *\n",
    "from pathlib import Path\n",
    "import pickle\n",
    "\n",
    "%matplotlib inline\n",
    "%load_ext autoreload\n",
    "%autoreload 2\n",
    "\n",
    "np.set_printoptions(threshold=np.nan)\n",
    "\n",
    "font = cv2.FONT_HERSHEY_COMPLEX_SMALL"
   ]
  },
  {
   "cell_type": "markdown",
   "metadata": {},
   "source": [
    "The FaceNet model takes a lot of data and a long time to train. So following common practice in applied deep learning settings, let's just load weights that someone else has already trained. The network architecture follows the Inception model from Szegedy et al..\n",
    "\n",
    "The key things you need to know are:\n",
    "\n",
    "This network uses 96x96 dimensional RGB images as its input. Specifically, inputs a face image (or batch of  mm  face images) as a tensor of shape  (m,nC,nH,nW)=(m,3,96,96)(m,nC,nH,nW)=(m,3,96,96) \n",
    "It outputs a matrix of shape  (m,128)(m,128)  that encodes each input face image into a 128-dimensional vector\n",
    "Run the cell below to create the model for face images"
   ]
  },
  {
   "cell_type": "code",
   "execution_count": 2,
   "metadata": {},
   "outputs": [],
   "source": [
    "# facial recognization model\n",
    "FRmodel = faceRecoModel(input_shape=(3, 96, 96))"
   ]
  },
  {
   "cell_type": "code",
   "execution_count": 3,
   "metadata": {},
   "outputs": [
    {
     "name": "stdout",
     "output_type": "stream",
     "text": [
      "Total Params: 3743280\n"
     ]
    }
   ],
   "source": [
    "# printing the total no of parameters \n",
    "print(\"Total Params:\", FRmodel.count_params())"
   ]
  },
  {
   "cell_type": "markdown",
   "metadata": {},
   "source": [
    "we will supply the images of the person whom you want to tag in photos.... our facial recognization model will output an 128 dimensional vector which is the encoding of the face... we will then go to each an every photograph and crop out the face part of each and every person in the image... if we can find a match between these faces and those stored in our database then we will tag those person in the image other wise we will leave the person as it is in the photo"
   ]
  },
  {
   "cell_type": "code",
   "execution_count": 4,
   "metadata": {},
   "outputs": [],
   "source": [
    "# this function resizes images to so that it can be used as an input to the model\n",
    "def resize_img(image):\n",
    "    image = cv2.resize(image, (96,96))\n",
    "    return image"
   ]
  },
  {
   "cell_type": "code",
   "execution_count": 5,
   "metadata": {},
   "outputs": [],
   "source": [
    "#initialize the database\n",
    "def init_database():\n",
    "    my_file = Path(\"database/user.pickle\")\n",
    "    if my_file.is_file():\n",
    "        # file exists\n",
    "        try:\n",
    "            pickle_in = open(\"database/user.pickle\",\"rb\")\n",
    "            user_db = pickle.load(pickle_in)\n",
    "            pickle_in.close()\n",
    "        except EOFError:\n",
    "            user_db = {}\n",
    "    else:\n",
    "        #file does not exists\n",
    "        # make a file and load it\n",
    "        user_db = {}\n",
    "    return user_db"
   ]
  },
  {
   "cell_type": "code",
   "execution_count": 6,
   "metadata": {},
   "outputs": [],
   "source": [
    "# adding a user to the data base by taking snapshot from the webcam\n",
    "def add_new_user_webcam(user_db):\n",
    "    # taking name as input \n",
    "    name = input('enter the name of the user \\n')\n",
    "    #initializing the haar cascade\n",
    "    face_cascade = cv2.CascadeClassifier('haarcascades/haarcascade_frontalface_default.xml')\n",
    "    cap = cv2.VideoCapture(1)\n",
    "    \n",
    "    while(True):\n",
    "        ret,img= cap.read()\n",
    "        if ret == 0:\n",
    "            print('problem in reading face ')\n",
    "            return \n",
    "        gray = cv2.cvtColor(img,cv2.COLOR_BGR2GRAY)\n",
    "        faces = face_cascade.detectMultiScale(gray,1.3,5)\n",
    "        for (x,y,w,h) in faces:\n",
    "            cv2.rectangle(img,(x,y),(x+w,y+h),(0,0,255),2)\n",
    "            roi_gray = gray[y:y+h, x:x+w]\n",
    "            roi_gray = resize_img(roi_gray)\n",
    "            cv2.imwrite('images/user.'+str(name) +'.jpg',roi_gray)\n",
    "            cv2.imshow('face',img)\n",
    "        cap.release()\n",
    "        cv2.destroyAllWindows()\n",
    "    \n",
    "    #extracting the features from the image\n",
    "    encoding = img_to_encoding(\"images/user.\" + str(name)+'.jpg', FRmodel)\n",
    "    user_db[name] = encoding\n",
    "    #saving the database\n",
    "    pickle_out = open(\"database/user.pickle\",\"wb\")\n",
    "    pickle.dump(user_db, pickle_out)\n",
    "    pickle_out.close()\n",
    "    print('user added to the database sucessfully from the webcam.....')"
   ]
  },
  {
   "cell_type": "code",
   "execution_count": 7,
   "metadata": {},
   "outputs": [],
   "source": [
    "# this funcion adds a new user to the database from the disk\n",
    "def add_new_user_disk(user_db):\n",
    "    face_cascade = cv2.CascadeClassifier('haarcascades/haarcascade_frontalface_default.xml')\n",
    "    for filename in os.listdir(\"upload_pic_disk\"):\n",
    "        name = filename.split(\".\")[0]\n",
    "        img_name = 'upload_pic_disk/' + str(name)+\".jpg\"\n",
    "    \n",
    "        img = cv2.imread(img_name)\n",
    "        gray = cv2.cvtColor(img,cv2.COLOR_BGR2GRAY)\n",
    "        faces = face_cascade.detectMultiScale(gray,1.3,5)\n",
    "        for (x,y,w,h) in faces:\n",
    "            cv2.rectangle(img,(x,y),(x+w,y+h),(0,0,255),2)\n",
    "            roi_gray = gray[y:y+h, x:x+w]\n",
    "            roi_gray = resize_img(roi_gray)\n",
    "            cv2.imwrite('images/user.'+str(name) +'.jpg',roi_gray)\n",
    "        #extracting the features from the image\n",
    "        encoding = img_to_encoding(\"images/user.\" + str(name)+'.jpg', FRmodel)    \n",
    "        user_db[name] = encoding\n",
    "        #saving the database\n",
    "        pickle_out = open(\"database/user.pickle\",\"wb\")\n",
    "        pickle.dump(user_db, pickle_out)\n",
    "        pickle_out.close()\n",
    "    print('user added to the database sucessfully from the disk.....')"
   ]
  },
  {
   "cell_type": "code",
   "execution_count": 31,
   "metadata": {},
   "outputs": [],
   "source": [
    "#this function deletes user from the images folder and cleares the database \n",
    "def delete_user():\n",
    "    #deletes the images from the picture folder\n",
    "    filelist = [ f for f in os.listdir(\"images\") if f.endswith(\".jpg\") ]\n",
    "    for f in filelist:\n",
    "        os.remove(os.path.join(\"images\", f))\n",
    "    #deletes the pickle file from the database folder\n",
    "    filelist = [ f for f in os.listdir(\"database\") if f.endswith(\".pickle\") ]\n",
    "    for f in filelist:\n",
    "        os.remove(os.path.join(\"database\", f))\n",
    "    # clearing the user data base from the current program memory\n",
    "    user_db = {}\n",
    "    print('all the user data deleted from the data base')\n",
    "    return user_db"
   ]
  },
  {
   "cell_type": "code",
   "execution_count": 9,
   "metadata": {},
   "outputs": [],
   "source": [
    "# this function calculates the minimum distance between two persons and judges whose pic it is \n",
    "\n",
    "def cal_distance(encoding, user_db):\n",
    "    min_dis = 100\n",
    "    name = \"\"\n",
    "    for key in user_db.keys():\n",
    "        dist = np.linalg.norm(encoding -user_db[key] )\n",
    "        if dist < min_dis:\n",
    "            min_dis = dist\n",
    "            name = key\n",
    "    print(min_dis)\n",
    "    if min_dis < 0.7:\n",
    "        return name\n",
    "    else:\n",
    "        return \"none\""
   ]
  },
  {
   "cell_type": "code",
   "execution_count": 10,
   "metadata": {},
   "outputs": [],
   "source": [
    "# this function takes every picture in the picture folder and will try to tag the persons in the photograph\n",
    "def tag_pictures():\n",
    "    face_cascade = cv2.CascadeClassifier('haarcascades/haarcascade_frontalface_default.xml')\n",
    "    counter = 0\n",
    "    factor = 2\n",
    "    for filename in os.listdir(\"pictures\"):\n",
    "        img = cv2.imread(os.path.join(\"pictures\",filename))\n",
    "        #reshaping the image to match the input to the model\n",
    "        gray = cv2.cvtColor(img,cv2.COLOR_BGR2GRAY)\n",
    "        faces = face_cascade.detectMultiScale(gray,1.3,5)\n",
    "        counter = counter +1\n",
    "        print('image no : ', counter )\n",
    "        face  = 1\n",
    "        for (x,y,w,h) in faces:\n",
    "            \n",
    "            cv2.rectangle(img,(x,y),(x+w,y+h),(0,0,255),2)\n",
    "            roi_gray = gray[y:y+h, x:x+w]\n",
    "            original_height, original_width = roi_gray.shape[:2]\n",
    "            resized_image = cv2.resize(roi_gray, (int(original_height*factor), int(original_width*factor)), interpolation=cv2.INTER_CUBIC )\n",
    "            roi_gray =cv2.resize(resized_image, (96,96))\n",
    "            \n",
    "            file_name = str(face) +'.jpg'\n",
    "            face = face +1 \n",
    "            cv2.imwrite(file_name, roi_gray)\n",
    "            #calculating the encoding for the images\n",
    "            encoding = img_to_encoding(file_name, FRmodel)\n",
    "            name = cal_distance(encoding , user_db)\n",
    "            cv2.putText(img,str(name),(x,y+h), font,2,(255,255,255),2)\n",
    "            file_name = 'tagged_photos/' + str(counter) + '.jpg'\n",
    "            cv2.imwrite(file_name, img)\n",
    "            cv2.destroyAllWindows()"
   ]
  },
  {
   "cell_type": "code",
   "execution_count": 27,
   "metadata": {},
   "outputs": [],
   "source": [
    "# initializing the database using the custom function created above\n",
    "user_db = init_database()"
   ]
  },
  {
   "cell_type": "code",
   "execution_count": 32,
   "metadata": {},
   "outputs": [
    {
     "name": "stdout",
     "output_type": "stream",
     "text": [
      "enter 1 to take photo from camera \n",
      "enter 2 to load the image from the disk. photo of the person must be present in the folder upload_pic_disk\n",
      "enter your choice :  1\n",
      "enter the name of the user \n",
      "aditya\n",
      "problem in reading face \n"
     ]
    }
   ],
   "source": [
    "# add a new user to the data base\n",
    "print(\"enter 1 to take photo from camera \")\n",
    "print(\"enter 2 to load the image from the disk. photo of the person must be present in the folder upload_pic_disk\")\n",
    "choice = input(\"enter your choice :  \")\n",
    "\n",
    "# converting str choice into integer\n",
    "choice = int(choice)\n",
    "if choice == 1:\n",
    "    add_new_user_webcam(user_db)\n",
    "elif choice == 2:\n",
    "    add_new_user_disk(user_db)\n",
    "else:\n",
    "    print('you have entered a wrong choice... read the instructions properly... ')"
   ]
  },
  {
   "cell_type": "code",
   "execution_count": 30,
   "metadata": {},
   "outputs": [
    {
     "name": "stdout",
     "output_type": "stream",
     "text": [
      "image no :  1\n",
      "0.0577964\n",
      "0.0913161\n",
      "image no :  2\n",
      "0.100699\n",
      "0.0773713\n",
      "image no :  3\n",
      "0.0722079\n",
      "0.0811541\n",
      "image no :  4\n",
      "0.0515154\n",
      "0.0621659\n"
     ]
    }
   ],
   "source": [
    "tag_pictures()"
   ]
  },
  {
   "cell_type": "code",
   "execution_count": 25,
   "metadata": {},
   "outputs": [],
   "source": [
    "# finally deleting all the user database from the disk\n",
    "user_db = delete_user()"
   ]
  },
  {
   "cell_type": "code",
   "execution_count": 29,
   "metadata": {},
   "outputs": [
    {
     "data": {
      "text/plain": [
       "{'ajay': array([[ 0.10161532,  0.04405417,  0.00145126,  0.11219432, -0.03127785,\n",
       "          0.03932003, -0.01948163, -0.07522185,  0.03674359, -0.16279471,\n",
       "         -0.05189849, -0.01098318,  0.00059776, -0.12251066, -0.00634948,\n",
       "         -0.04911887,  0.01682732, -0.16894406, -0.0925436 , -0.15150228,\n",
       "         -0.06288633,  0.22418037,  0.18329406, -0.08351085,  0.00325542,\n",
       "          0.09545627, -0.01561337, -0.1602114 , -0.13716286,  0.09297018,\n",
       "         -0.13530935, -0.05549876,  0.03650007,  0.09122608, -0.04381409,\n",
       "          0.06798197,  0.02724134, -0.03172544,  0.09096582, -0.12456593,\n",
       "          0.03722654, -0.03615281,  0.02824867,  0.00881526, -0.08068102,\n",
       "          0.12615331,  0.07987802,  0.05049731, -0.11856304, -0.16446611,\n",
       "          0.0599627 , -0.03903407, -0.19564146, -0.06986073, -0.02128511,\n",
       "         -0.13232051,  0.08200821, -0.07652061, -0.07490791, -0.09047047,\n",
       "         -0.10819478,  0.13418566,  0.00903068,  0.05909563, -0.06083478,\n",
       "          0.08280162, -0.02874054, -0.05117484, -0.02388011,  0.04930507,\n",
       "         -0.13853709, -0.01549391,  0.03023637,  0.08333236,  0.12837459,\n",
       "          0.11933114,  0.13031246, -0.02788544,  0.10573992, -0.03542603,\n",
       "         -0.09480976,  0.0556555 ,  0.01857697,  0.01144421,  0.04322314,\n",
       "          0.13883182, -0.08096652, -0.04272758,  0.13632312,  0.05742306,\n",
       "          0.04733213,  0.14994544, -0.01874113, -0.05888043, -0.00107844,\n",
       "         -0.05429536,  0.00118357, -0.03103081,  0.01126379,  0.18272929,\n",
       "          0.0770086 ,  0.03219299, -0.02164877, -0.00794429, -0.0824564 ,\n",
       "         -0.04400238, -0.0222761 ,  0.03208704,  0.12198158,  0.00695864,\n",
       "          0.04190982,  0.01889663,  0.01540943, -0.1078301 ,  0.03221746,\n",
       "          0.03090774,  0.04932998,  0.09438265, -0.00078893,  0.0558207 ,\n",
       "          0.13133402,  0.1366291 , -0.03643305, -0.10972299,  0.22628303,\n",
       "          0.00640351,  0.18801104, -0.04051748]], dtype=float32),\n",
       " 'preity': array([[ 0.09916562,  0.03730833, -0.00614068,  0.11321032, -0.02634757,\n",
       "          0.03042496, -0.01765293, -0.07451525,  0.04063326, -0.1546468 ,\n",
       "         -0.0560325 , -0.00947296,  0.00843324, -0.12771352, -0.00346867,\n",
       "         -0.05186987,  0.02168145, -0.16593358, -0.11059344, -0.13228317,\n",
       "         -0.06479682,  0.23804072,  0.18635318, -0.08539811,  0.0045002 ,\n",
       "          0.10597217, -0.00445437, -0.1596195 , -0.12619808,  0.08445131,\n",
       "         -0.12104081, -0.05439311,  0.02027063,  0.10174373, -0.04624637,\n",
       "          0.06194586,  0.02030329, -0.03530833,  0.10136586, -0.12109668,\n",
       "          0.03106801, -0.0289871 ,  0.01229559,  0.01487643, -0.08801339,\n",
       "          0.12274794,  0.08630016,  0.04679228, -0.11636466, -0.18324903,\n",
       "          0.05571308, -0.05214232, -0.1890585 , -0.06860249, -0.02095902,\n",
       "         -0.13089968,  0.08885986, -0.0851181 , -0.06508992, -0.07749283,\n",
       "         -0.11747409,  0.12025659,  0.00991113,  0.06306766, -0.0651234 ,\n",
       "          0.08785698, -0.02692108, -0.05467673, -0.02715183,  0.03369942,\n",
       "         -0.15024422, -0.02240871,  0.03261738,  0.06999446,  0.13356222,\n",
       "          0.10816012,  0.12008733, -0.02567156,  0.11825481, -0.02723747,\n",
       "         -0.10243538,  0.06212699,  0.00821267,  0.01999478,  0.03186109,\n",
       "          0.13695917, -0.07952408, -0.04814903,  0.13285953,  0.0543166 ,\n",
       "          0.02900628,  0.13717678, -0.01666089, -0.04894783,  0.00700462,\n",
       "         -0.06115261, -0.0032202 , -0.02296195,  0.00208464,  0.17667823,\n",
       "          0.08380481,  0.0314069 , -0.03802136, -0.00423765, -0.0744909 ,\n",
       "         -0.03391435, -0.02662388,  0.03254296,  0.11355255,  0.00392377,\n",
       "          0.06039914,  0.03377316,  0.00311061, -0.10857443,  0.03602698,\n",
       "          0.04965863,  0.05393103,  0.09572928,  0.00067517,  0.05957725,\n",
       "          0.12880355,  0.1305009 , -0.04034556, -0.09550517,  0.24070662,\n",
       "          0.01160303,  0.1950933 , -0.02994415]], dtype=float32),\n",
       " 'salman': array([[ 0.0996916 ,  0.04188899, -0.00574714,  0.11303733, -0.02532165,\n",
       "          0.04372772, -0.020028  , -0.08305447,  0.04129669, -0.15492706,\n",
       "         -0.05058079, -0.00445982,  0.00809969, -0.11722987, -0.000385  ,\n",
       "         -0.04835781,  0.02738698, -0.17235218, -0.09738658, -0.14237471,\n",
       "         -0.0661071 ,  0.21221279,  0.19196317, -0.08121646,  0.00393349,\n",
       "          0.10315131, -0.01265465, -0.15530658, -0.13635795,  0.08651073,\n",
       "         -0.12893802, -0.04898247,  0.01796828,  0.09811162, -0.04696745,\n",
       "          0.06411304,  0.03321594, -0.03908788,  0.09274609, -0.12364826,\n",
       "          0.02655366, -0.03013175,  0.01779199,  0.01568244, -0.08774243,\n",
       "          0.12514432,  0.08489668,  0.05367028, -0.11790077, -0.17247164,\n",
       "          0.06533374, -0.04118379, -0.19867283, -0.07883516, -0.01926059,\n",
       "         -0.12944965,  0.08317529, -0.07140519, -0.06978129, -0.09219301,\n",
       "         -0.10404046,  0.13410729,  0.01001377,  0.06468976, -0.05641701,\n",
       "          0.07857735, -0.03170968, -0.04130867, -0.03046749,  0.05623487,\n",
       "         -0.14142209, -0.01873325,  0.03674326,  0.07535747,  0.14484455,\n",
       "          0.11400748,  0.1324641 , -0.02972836,  0.1031812 , -0.02888239,\n",
       "         -0.08699488,  0.05474105,  0.00911269,  0.01667852,  0.03939024,\n",
       "          0.12948819, -0.08042756, -0.05095594,  0.13942805,  0.056376  ,\n",
       "          0.04672486,  0.15125176, -0.01288441, -0.06412929,  0.00588985,\n",
       "         -0.05173357, -0.00677407, -0.01855117,  0.00533892,  0.18101382,\n",
       "          0.08301166,  0.03444361, -0.03366511, -0.00460504, -0.08477769,\n",
       "         -0.04174685, -0.02096712,  0.04013402,  0.12253909,  0.00101777,\n",
       "          0.04803712,  0.02872121,  0.01516607, -0.10672881,  0.03012818,\n",
       "          0.03581383,  0.04982087,  0.09172096,  0.00053259,  0.05045066,\n",
       "          0.14345926,  0.12509489, -0.03157329, -0.09816173,  0.23889761,\n",
       "          0.00850323,  0.18532658, -0.03520862]], dtype=float32),\n",
       " 'shahrukh': array([[ 0.09120581,  0.04035569, -0.00481461,  0.12309882, -0.03551447,\n",
       "          0.03377064, -0.02246002, -0.08384768,  0.03612344, -0.15110275,\n",
       "         -0.06138682, -0.01119451, -0.00392906, -0.12979446, -0.00680649,\n",
       "         -0.05319981,  0.01241261, -0.15643859, -0.10925572, -0.14528087,\n",
       "         -0.07425448,  0.23649171,  0.18890269, -0.0814366 ,  0.00596288,\n",
       "          0.10677635, -0.00187871, -0.15856872, -0.132724  ,  0.09341583,\n",
       "         -0.12266564, -0.05228259,  0.0168815 ,  0.11709798, -0.04699885,\n",
       "          0.0691794 ,  0.02186892, -0.0420678 ,  0.09785445, -0.11763577,\n",
       "          0.02915193, -0.03331292,  0.01599051,  0.01618773, -0.08160561,\n",
       "          0.11675534,  0.08649947,  0.05008443, -0.11047541, -0.17696899,\n",
       "          0.05143647, -0.04516983, -0.19320959, -0.05872589, -0.01773339,\n",
       "         -0.13237494,  0.08594533, -0.0839602 , -0.07331631, -0.08440502,\n",
       "         -0.10632115,  0.112371  ,  0.00577458,  0.06333897, -0.05549247,\n",
       "          0.09412479, -0.02630019, -0.04850183, -0.02736871,  0.04357097,\n",
       "         -0.14522131, -0.02590247,  0.0279947 ,  0.07456854,  0.13174716,\n",
       "          0.11256748,  0.12732612, -0.0278511 ,  0.11229912, -0.01956271,\n",
       "         -0.10835687,  0.06472903,  0.01182673,  0.01833679,  0.03337706,\n",
       "          0.13493729, -0.08536253, -0.04540768,  0.13088636,  0.05694481,\n",
       "          0.04033784,  0.14419383, -0.01438582, -0.05016026,  0.01420317,\n",
       "         -0.05084012, -0.01057403, -0.03232784,  0.00988538,  0.16775686,\n",
       "          0.08123901,  0.03473407, -0.0302229 , -0.01235549, -0.08558993,\n",
       "         -0.03141694, -0.02448428,  0.03017897,  0.1183575 ,  0.00504976,\n",
       "          0.0478886 ,  0.02493437,  0.00032942, -0.10611638,  0.03800128,\n",
       "          0.05208157,  0.04612238,  0.09420881, -0.00410834,  0.05485465,\n",
       "          0.124862  ,  0.13512003, -0.03477259, -0.10197029,  0.23758645,\n",
       "          0.0036027 ,  0.19219382, -0.03767271]], dtype=float32)}"
      ]
     },
     "execution_count": 29,
     "metadata": {},
     "output_type": "execute_result"
    }
   ],
   "source": [
    "user_db"
   ]
  },
  {
   "cell_type": "code",
   "execution_count": null,
   "metadata": {},
   "outputs": [],
   "source": []
  }
 ],
 "metadata": {
  "kernelspec": {
   "display_name": "Python 3",
   "language": "python",
   "name": "python3"
  },
  "language_info": {
   "codemirror_mode": {
    "name": "ipython",
    "version": 3
   },
   "file_extension": ".py",
   "mimetype": "text/x-python",
   "name": "python",
   "nbconvert_exporter": "python",
   "pygments_lexer": "ipython3",
   "version": "3.5.4"
  }
 },
 "nbformat": 4,
 "nbformat_minor": 2
}
